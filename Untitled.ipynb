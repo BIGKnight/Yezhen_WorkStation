{
 "cells": [
  {
   "cell_type": "code",
   "execution_count": 2,
   "metadata": {},
   "outputs": [],
   "source": [
    "var = 0.2\n",
    "def func(x):\n",
    "    return x\n",
    "\n",
    "def gen_x(d, data_size=1000000):\n",
    "    a = np.sign(np.random.normal(0.,5.,[data_size]))\n",
    "    x = np.array([cv2.getGaussianKernel(d, 1).reshape(-1) + i for i in a])\n",
    "    return x\n",
    "\n",
    "def gen_y(x, d, data_size=1000000):\n",
    "    return func(x)+np.random.normal(0.,np.sqrt(var),[data_size, d])"
   ]
  },
  {
   "cell_type": "code",
   "execution_count": 9,
   "metadata": {},
   "outputs": [
    {
     "name": "stdout",
     "output_type": "stream",
     "text": [
      "0.713857070795\n"
     ]
    }
   ],
   "source": [
    "data_size = 1000000\n",
    "d=10\n",
    "x=gen_x(d, data_size)\n",
    "y=gen_y(x, d, data_size)\n",
    "\n",
    "\n",
    "\n",
    "p_y_x=np.exp(-(y-x)**2/(2*var))\n",
    "p_y_x_minus=np.exp(-(y+1)**2/(2*var))\n",
    "p_y_x_plus=np.exp(-(y-1)**2/(2*var))\n",
    "mi=np.mean(np.log(p_y_x/(0.5*p_y_x_minus+0.5*p_y_x_plus)))\n",
    "print(mi)"
   ]
  },
  {
   "cell_type": "code",
   "execution_count": 4,
   "metadata": {},
   "outputs": [],
   "source": [
    "d=10\n",
    "a = np.sign(np.random.normal(0.,5.,[500 * 20000]))\n",
    "x_datasets = np.array([cv2.getGaussianKernel(d, 1).reshape(-1) + i for i in a])"
   ]
  },
  {
   "cell_type": "code",
   "execution_count": 7,
   "metadata": {},
   "outputs": [],
   "source": [
    "H=50\n",
    "d=10\n",
    "n_epoch = 500\n",
    "data_size = 20000\n",
    "class Net(nn.Module):\n",
    "    def __init__(self, in_c):\n",
    "        super(Net, self).__init__()\n",
    "        self.fc1 = nn.Linear(in_c, H)\n",
    "        self.fc2 = nn.Linear(H, H)\n",
    "        self.fc3 = nn.Linear(H, 1)\n",
    "\n",
    "    def forward(self, x, y):\n",
    "        h1 = F.relu(self.fc1(x)) + F.relu(self.fc1(y))\n",
    "        h2 = F.relu(self.fc2(h1))\n",
    "        h3 = self.fc3(h2)\n",
    "        return h3    \n",
    "\n",
    "model = Net(d).cuda()\n",
    "optimizer = torch.optim.Adam(model.parameters(), lr=0.01)\n",
    "plot_loss = []\n",
    "for epoch in range(n_epoch):\n",
    "    x_sample=x_datasets.reshape(500, 20000, -1)[epoch]\n",
    "    y_sample=gen_y(x_sample, d, data_size)\n",
    "    \n",
    "    y_shuffle = np.random.permutation(y_sample)\n",
    "    x_sample = Variable(torch.from_numpy(x_sample).type(torch.FloatTensor), requires_grad = True).cuda()\n",
    "    y_sample = Variable(torch.from_numpy(y_sample).type(torch.FloatTensor), requires_grad = True).cuda()\n",
    "    y_shuffle = Variable(torch.from_numpy(y_shuffle).type(torch.FloatTensor), requires_grad = True).cuda()\n",
    "    pred_xy = model(x_sample, y_sample)\n",
    "    pred_x_y = model(x_sample, y_shuffle)\n",
    "\n",
    "    ret = torch.mean(pred_xy) - torch.log(torch.mean(torch.exp(pred_x_y)))\n",
    "    loss = - ret  # maximize\n",
    "    plot_loss.append(loss.data.item())\n",
    "    model.zero_grad()\n",
    "    loss.backward()\n",
    "    optimizer.step()"
   ]
  },
  {
   "cell_type": "code",
   "execution_count": 8,
   "metadata": {},
   "outputs": [
    {
     "data": {
      "text/plain": [
       "[<matplotlib.lines.Line2D at 0x7f66f3294390>]"
      ]
     },
     "execution_count": 8,
     "metadata": {},
     "output_type": "execute_result"
    },
    {
     "data": {
      "image/png": "[encoded data removed]",
      "text/plain": [
       "<Figure size 432x288 with 1 Axes>"
      ]
     },
     "metadata": {
      "needs_background": "light"
     },
     "output_type": "display_data"
    }
   ],
   "source": [
    "import matplotlib.pyplot as plt\n",
    "# plot_x = np.arange(len(plot_loss))\n",
    "# plot_y = np.array(plot_loss).reshape(-1,)\n",
    "plt.plot([-x for x in plot_loss])"
   ]
  },
  {
   "cell_type": "code",
   "execution_count": 12,
   "metadata": {},
   "outputs": [
    {
     "data": {
      "text/plain": [
       "torch.Size([20000, 1])"
      ]
     },
     "execution_count": 12,
     "metadata": {},
     "output_type": "execute_result"
    }
   ],
   "source": [
    "pred_xy.shape"
   ]
  },
  {
   "cell_type": "code",
   "execution_count": 11,
   "metadata": {},
   "outputs": [
    {
     "data": {
      "text/plain": [
       "tensor([[0.4425],\n",
       "        [0.4425],\n",
       "        [0.4425],\n",
       "        ...,\n",
       "        [0.4425],\n",
       "        [0.4425],\n",
       "        [0.4425]], device='cuda:0', grad_fn=<AddmmBackward>)"
      ]
     },
     "execution_count": 11,
     "metadata": {},
     "output_type": "execute_result"
    }
   ],
   "source": [
    "pred_x_y"
   ]
  },
  {
   "cell_type": "code",
   "execution_count": 13,
   "metadata": {},
   "outputs": [
    {
     "name": "stdout",
     "output_type": "stream",
     "text": [
      "0.656135\n"
     ]
    }
   ],
   "source": [
    "print(-plot_loss[-1])"
   ]
  },
  {
   "cell_type": "code",
   "execution_count": null,
   "metadata": {},
   "outputs": [],
   "source": [
    "class EnvPredictor(nn.Module):\n",
    "    def __init__(self, batch_size, num_class, in_features, bottleneck_dim=1024):\n",
    "        super(EnvPredictor, self).__init__()\n",
    "        self.dropout1 = nn.Dropout(p=0.5)\n",
    "        self.dropout2 = nn.Dropout(p=0.5)\n",
    "        self.bottleneck = nn.Linear(in_features=in_features * 2, out_features=bottleneck_dim, bias=True)\n",
    "        self.fc = nn.Linear(in_features=bottleneck_dim, out_features=num_class, bias=True)\n",
    "        \n",
    "        self.apply(init_weights)\n",
    "        self.num_class = num_class\n",
    "        self.env_embedding = {'src':torch.zeros(batch_size, in_features).cuda(), 'tgt':torch.ones(batch_size, in_features).cuda()}\n",
    "\n",
    "    def forward(self, x, env):\n",
    "        x_in = torch.cat([x, self.env_embedding[env]], 1)\n",
    "        drop_x = self.dropout2(x_in)\n",
    "        encodes = torch.nn.functional.relu(self.bottleneck(drop_x), inplace=False)\n",
    "        drop_x = self.dropout2(encodes)\n",
    "        logits = self.fc(drop_x)\n",
    "        return logits\n",
    "\n",
    "    def get_parameters(self):\n",
    "        return [{\"params\": self.parameters(), \"lr_mult\": 1, 'decay_mult': 10}]"
   ]
  },
  {
   "cell_type": "code",
   "execution_count": 1,
   "metadata": {},
   "outputs": [],
   "source": [
    "import torch\n",
    "import torchvision.models as model\n",
    "vgg16 = model.vgg16(pretrained=True)"
   ]
  }
 ],
 "metadata": {
  "kernelspec": {
   "display_name": "Python 3",
   "language": "python",
   "name": "python3"
  },
  "language_info": {
   "codemirror_mode": {
    "name": "ipython",
    "version": 3
   },
   "file_extension": ".py",
   "mimetype": "text/x-python",
   "name": "python",
   "nbconvert_exporter": "python",
   "pygments_lexer": "ipython3",
   "version": "3.6.9"
  }
 },
 "nbformat": 4,
 "nbformat_minor": 4
}
