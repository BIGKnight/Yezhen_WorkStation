{
 "cells": [
  {
   "cell_type": "code",
   "execution_count": 1,
   "metadata": {},
   "outputs": [
    {
     "ename": "FileNotFoundError",
     "evalue": "[Errno 2] No such file or directory: 'Clipart.txt'",
     "output_type": "error",
     "traceback": [
      "\u001b[0;31m---------------------------------------------------------------------------\u001b[0m",
      "\u001b[0;31mFileNotFoundError\u001b[0m                         Traceback (most recent call last)",
      "\u001b[0;32m<ipython-input-1-d2b1458aa1c5>\u001b[0m in \u001b[0;36m<module>\u001b[0;34m\u001b[0m\n\u001b[1;32m      1\u001b[0m \u001b[0;32mimport\u001b[0m \u001b[0mos\u001b[0m\u001b[0;34m\u001b[0m\u001b[0;34m\u001b[0m\u001b[0m\n\u001b[1;32m      2\u001b[0m \u001b[0;32mimport\u001b[0m \u001b[0mrandom\u001b[0m\u001b[0;34m\u001b[0m\u001b[0;34m\u001b[0m\u001b[0m\n\u001b[0;32m----> 3\u001b[0;31m \u001b[0mf\u001b[0m \u001b[0;34m=\u001b[0m \u001b[0mopen\u001b[0m\u001b[0;34m(\u001b[0m\u001b[0;34m'Clipart.txt'\u001b[0m\u001b[0;34m,\u001b[0m \u001b[0;34m'r'\u001b[0m\u001b[0;34m)\u001b[0m\u001b[0;34m\u001b[0m\u001b[0;34m\u001b[0m\u001b[0m\n\u001b[0m\u001b[1;32m      4\u001b[0m \u001b[0mf1\u001b[0m \u001b[0;34m=\u001b[0m \u001b[0mopen\u001b[0m\u001b[0;34m(\u001b[0m\u001b[0;34m'Art_labeled.txt'\u001b[0m\u001b[0;34m,\u001b[0m \u001b[0;34m'w'\u001b[0m\u001b[0;34m)\u001b[0m\u001b[0;34m\u001b[0m\u001b[0;34m\u001b[0m\u001b[0m\n\u001b[1;32m      5\u001b[0m \u001b[0mf2\u001b[0m \u001b[0;34m=\u001b[0m \u001b[0mopen\u001b[0m\u001b[0;34m(\u001b[0m\u001b[0;34m'Art_unlabeled.txt'\u001b[0m\u001b[0;34m,\u001b[0m \u001b[0;34m'w'\u001b[0m\u001b[0;34m)\u001b[0m\u001b[0;34m\u001b[0m\u001b[0;34m\u001b[0m\u001b[0m\n",
      "\u001b[0;31mFileNotFoundError\u001b[0m: [Errno 2] No such file or directory: 'Clipart.txt'"
     ]
    }
   ],
   "source": [
    "import os\n",
    "import random\n",
    "f = open('Art.txt', 'r')\n",
    "f1 = open('Art_labeled.txt', 'w')\n",
    "f2 = open('Art_unlabeled.txt', 'w')\n",
    "f3 = open('Art_validation.txt', 'w')\n",
    "a = {}\n",
    "s = 0\n",
    "c = []\n",
    "for line in f:\n",
    "    cls = line.split(' ')[1][:-1]\n",
    "    b = a.get(cls, None)\n",
    "    if b == None:\n",
    "        a[cls] = 1\n",
    "        f1.write(line)\n",
    "        s += 1\n",
    "    else:\n",
    "        a[cls] += 1\n",
    "        c.append(line)\n",
    "        s += 1\n",
    "    \n",
    "for line in c:\n",
    "    rand_n = random.random()\n",
    "    if rand_n <= (s * 0.01 - 65) / s:\n",
    "        f1.write(line)\n",
    "    elif rand_n <= 0.7:\n",
    "        f2.write(line)\n",
    "    else:\n",
    "        f3.write(line)\n",
    "f1.close()\n",
    "f2.close()\n",
    "f3.close()"
   ]
  },
  {
   "cell_type": "code",
   "execution_count": 2,
   "metadata": {},
   "outputs": [
    {
     "name": "stdout",
     "output_type": "stream",
     "text": [
      "/nfs/volume-92-5/wangyezhen_i/Projects/Theoretical_Projects/InstaPBM-V1/datasets/convention/visda2017/target\n"
     ]
    }
   ],
   "source": []
  },
  {
   "cell_type": "code",
   "execution_count": 2,
   "metadata": {},
   "outputs": [
    {
     "data": {
      "text/plain": [
       "55388"
      ]
     },
     "execution_count": 2,
     "metadata": {},
     "output_type": "execute_result"
    }
   ],
   "source": [
    "s"
   ]
  },
  {
   "cell_type": "code",
   "execution_count": 3,
   "metadata": {},
   "outputs": [],
   "source": [
    "import os\n",
    "f = open('Art_labeled.txt', 'r')\n",
    "a = {}\n",
    "s = 0\n",
    "for line in f:\n",
    "    cls = line.split(' ')[1][:-1]\n",
    "    b = a.get(cls, None)\n",
    "    if b == None:\n",
    "        a[cls] = 1\n",
    "        s += 1\n",
    "    else:\n",
    "        a[cls] += 1\n",
    "        s += 1"
   ]
  },
  {
   "cell_type": "code",
   "execution_count": 4,
   "metadata": {},
   "outputs": [
    {
     "data": {
      "text/plain": [
       "574"
      ]
     },
     "execution_count": 4,
     "metadata": {},
     "output_type": "execute_result"
    }
   ],
   "source": [
    "s"
   ]
  },
  {
   "cell_type": "code",
   "execution_count": 1,
   "metadata": {},
   "outputs": [],
   "source": [
    "root = \"/nfs/volume-92-5/wangyezhen_i/Datasets/DDA_office/officehome\"\n",
    "domains = [\"Art\",  \"Clipart\",  \"Product\",  \"RealWorld\"]\n",
    "f = [open(domains[i] + \".txt\", \"w\") for i in range(4)]\n",
    "import os\n",
    "for idx, domain in enumerate(domains):\n",
    "    for r, subdirs, subfiles in os.walk(os.path.join(root, domain)):\n",
    "        for file in subfiles:\n",
    "            label = r.split('/')[-1]\n",
    "            f[idx].write(label + \"/\" + file + \" \" + label + \"\\n\")\n",
    "            \n",
    "    f[idx].close()"
   ]
  },
  {
   "cell_type": "code",
   "execution_count": null,
   "metadata": {},
   "outputs": [],
   "source": []
  }
 ],
 "metadata": {
  "kernelspec": {
   "display_name": "Python 3",
   "language": "python",
   "name": "python3"
  },
  "language_info": {
   "codemirror_mode": {
    "name": "ipython",
    "version": 3
   },
   "file_extension": ".py",
   "mimetype": "text/x-python",
   "name": "python",
   "nbconvert_exporter": "python",
   "pygments_lexer": "ipython3",
   "version": "3.6.9"
  }
 },
 "nbformat": 4,
 "nbformat_minor": 4
}
