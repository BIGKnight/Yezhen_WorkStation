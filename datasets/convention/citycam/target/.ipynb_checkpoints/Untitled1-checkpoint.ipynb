{
 "cells": [
  {
   "cell_type": "code",
   "execution_count": 1,
   "metadata": {},
   "outputs": [],
   "source": [
    "import os\n",
    "import random\n",
    "f = open('../target/410.txt', 'r')\n",
    "f1 = open('../target/410_labeled.txt', 'w')\n",
    "f2 = open('../target/410_unlabeled.txt', 'w')\n",
    "f3 = open('../target/410_validation.txt', 'w')\n",
    "a = {}\n",
    "s = 0\n",
    "    \n",
    "for line in f:\n",
    "    rand_n = random.random()\n",
    "    if rand_n <= 0.01:\n",
    "        f1.write(line)\n",
    "    elif rand_n <= 0.7:\n",
    "        f2.write(line)\n",
    "    else:\n",
    "        f3.write(line)\n",
    "f1.close()\n",
    "f2.close()\n",
    "f3.close()"
   ]
  },
  {
   "cell_type": "code",
   "execution_count": 2,
   "metadata": {},
   "outputs": [
    {
     "data": {
      "text/plain": [
       "4357"
      ]
     },
     "execution_count": 2,
     "metadata": {},
     "output_type": "execute_result"
    }
   ],
   "source": [
    "s"
   ]
  },
  {
   "cell_type": "code",
   "execution_count": 3,
   "metadata": {},
   "outputs": [],
   "source": [
    "import os\n",
    "f = open('RealWorld_labeled.txt', 'r')\n",
    "a = {}\n",
    "s = 0\n",
    "for line in f:\n",
    "    cls = line.split(' ')[1][:-1]\n",
    "    b = a.get(cls, None)\n",
    "    if b == None:\n",
    "        a[cls] = 1\n",
    "        s += 1\n",
    "    else:\n",
    "        a[cls] += 1\n",
    "        s += 1"
   ]
  },
  {
   "cell_type": "code",
   "execution_count": 4,
   "metadata": {},
   "outputs": [
    {
     "data": {
      "text/plain": [
       "65"
      ]
     },
     "execution_count": 4,
     "metadata": {},
     "output_type": "execute_result"
    }
   ],
   "source": [
    "s"
   ]
  },
  {
   "cell_type": "code",
   "execution_count": 1,
   "metadata": {},
   "outputs": [
    {
     "name": "stdout",
     "output_type": "stream",
     "text": [
      "/nfs/volume-92-5/wangyezhen_i/Projects/Theoretical_Projects/InstaPBM-V1/datasets/convention/citycam/source\n"
     ]
    }
   ],
   "source": [
    "!pwd"
   ]
  },
  {
   "cell_type": "code",
   "execution_count": 1,
   "metadata": {},
   "outputs": [],
   "source": [
    "import os\n",
    "nums = [164,  166,  170,  173,  181,  253,  398,  403,  410,  495,  511,  551,  572,  691,  846,  928]\n",
    "for num in nums:\n",
    "    n = str(num)\n",
    "    root = \"/nfs/volume-92-5/wangyezhen_i/Datasets/CityCam/\" + n\n",
    "    f = open(n + '.txt', 'w')\n",
    "    for r, subdir, subfiles in os.walk(os.path.join(root)):\n",
    "        for file in subfiles:\n",
    "            if '.jpg' in file:\n",
    "                pre_dir = r.split('/')[-1]\n",
    "                frame_idx = file[:-4]\n",
    "                f.write(pre_dir + \"/\" + frame_idx + '.jpg' + ' ' + \\\n",
    "                        pre_dir + \"/\" + frame_idx + '.xml' + ' ' + \\\n",
    "                        pre_dir + \".png\\n\"\n",
    "                       )\n",
    "    f.close()"
   ]
  },
  {
   "cell_type": "code",
   "execution_count": 5,
   "metadata": {},
   "outputs": [],
   "source": [
    "import numpy as np"
   ]
  },
  {
   "cell_type": "code",
   "execution_count": 13,
   "metadata": {},
   "outputs": [],
   "source": [
    "b = np.random.permutation(5)"
   ]
  },
  {
   "cell_type": "code",
   "execution_count": 14,
   "metadata": {},
   "outputs": [],
   "source": [
    "a = [['asd', '12451', 'ascax', 'dasnl', '1n'], ['12451', '1n', 'ascax', 'asd', 'dasnl']]"
   ]
  },
  {
   "cell_type": "code",
   "execution_count": 17,
   "metadata": {},
   "outputs": [
    {
     "data": {
      "text/plain": [
       "[['asd', '12451', 'ascax', '1n', 'dasnl'],\n",
       " ['12451', '1n', 'ascax', 'dasnl', 'asd']]"
      ]
     },
     "execution_count": 17,
     "metadata": {},
     "output_type": "execute_result"
    }
   ],
   "source": [
    "np.array(a)[:, b].tolist()"
   ]
  },
  {
   "cell_type": "code",
   "execution_count": 18,
   "metadata": {},
   "outputs": [
    {
     "data": {
      "text/plain": [
       "array([0, 1, 2, 4, 3])"
      ]
     },
     "execution_count": 18,
     "metadata": {},
     "output_type": "execute_result"
    }
   ],
   "source": [
    "b"
   ]
  },
  {
   "cell_type": "code",
   "execution_count": 19,
   "metadata": {},
   "outputs": [
    {
     "name": "stdout",
     "output_type": "stream",
     "text": [
      "/nfs/volume-92-5/wangyezhen_i/Projects/Theoretical_Projects/InstaPBM-V1/datasets/convention/citycam/source\n"
     ]
    }
   ],
   "source": [
    "!pwd"
   ]
  },
  {
   "cell_type": "code",
   "execution_count": null,
   "metadata": {},
   "outputs": [],
   "source": []
  }
 ],
 "metadata": {
  "kernelspec": {
   "display_name": "Python 3",
   "language": "python",
   "name": "python3"
  },
  "language_info": {
   "codemirror_mode": {
    "name": "ipython",
    "version": 3
   },
   "file_extension": ".py",
   "mimetype": "text/x-python",
   "name": "python",
   "nbconvert_exporter": "python",
   "pygments_lexer": "ipython3",
   "version": "3.6.9"
  }
 },
 "nbformat": 4,
 "nbformat_minor": 4
}
